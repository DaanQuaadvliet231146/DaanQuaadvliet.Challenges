{
 "cells": [
  {
   "cell_type": "markdown",
   "metadata": {},
   "source": [
    "# Generative AI Challenge: Character Consistency"
   ]
  },
  {
   "cell_type": "markdown",
   "metadata": {},
   "source": [
    "Name: Daan Quaadvliet \n",
    "\n",
    "Number: 231146"
   ]
  },
  {
   "cell_type": "markdown",
   "metadata": {},
   "source": [
    "## 1. Solution Overview"
   ]
  },
  {
   "cell_type": "markdown",
   "metadata": {},
   "source": [
    "beautiful scenery nature glass bottle landscape, , purple galaxy bottle,"
   ]
  },
  {
   "cell_type": "code",
   "execution_count": null,
   "metadata": {},
   "outputs": [],
   "source": []
  },
  {
   "cell_type": "markdown",
   "metadata": {},
   "source": [
    "[WRITE HERE A SHORT EXPLANATION ABOUT YOUR IDEA TO SOLVE THE CHARACTER CONSISTENCY PROBLEM]"
   ]
  },
  {
   "cell_type": "markdown",
   "metadata": {},
   "source": [
    "## 2. Load Story"
   ]
  },
  {
   "cell_type": "markdown",
   "metadata": {},
   "source": [
    "We start by loading a story. The code below loads a random story from the server and stores the scene descritions in the ``story_scenes`` list. \n",
    "\n",
    "Every time you run this code, you will get a different story. Your solution must work with any story given by the server."
   ]
  },
  {
   "cell_type": "code",
   "execution_count": null,
   "metadata": {},
   "outputs": [],
   "source": [
    "import requests\n",
    "\n",
    "response = requests.get(\"https://edirlei.com/buas/get-story.php\")\n",
    "story_scenes = response.json()\n",
    "\n",
    "for i in range(len(story_scenes)):\n",
    "    print(\"SCENE \" + str(i + 1) + \": \" + story_scenes[i])"
   ]
  },
  {
   "cell_type": "markdown",
   "metadata": {},
   "source": [
    "## 3. Preprocess Scene Descriptions"
   ]
  },
  {
   "cell_type": "markdown",
   "metadata": {},
   "source": [
    "[EXPLAIN HERE ALL PREPROCESSING STEPS PERFORMED IN THE SCENE DESCRIPTIONS]\n",
    "\n",
    "[ADD MORE MARKDOWN OR CODE CELLS IF NEEDED]"
   ]
  },
  {
   "cell_type": "code",
   "execution_count": null,
   "metadata": {},
   "outputs": [],
   "source": [
    "# [WRITE HERE ALL THE CODE TO PREPROCESS THE SCENE DESCRIPTIONS]\n",
    "\n",
    "##### PLACEHOLDER CODE JUST TO COPY THE ORIGINAL SCENE DESCRIPTIONS - REPLACE IT WITH YOUR CODE #####\n",
    "processed_story_scenes = []\n",
    "for scene in story_scenes:\n",
    "    processed_story_scenes.append(scene) \n",
    "#####################################################################################################"
   ]
  },
  {
   "cell_type": "markdown",
   "metadata": {},
   "source": [
    "## 4. Image Generation with Improved Character Consistency"
   ]
  },
  {
   "cell_type": "markdown",
   "metadata": {},
   "source": [
    "[EXPLAIN HERE HOW YOUR METHOD TO IMPROVE CHARACTER CONSISTENCY IS IMPLEMENTED]\n",
    "\n",
    "[EXPLAIN YOUR SOLUTION STEP-BY-STEP]\n",
    "\n",
    "[IF YOUR SOLUTION INVOLVES EXTERNAL STEPS THAT ARE NOT IMPLEMENTED IN THIS NOTEBOOK (SUCH AS FINE-TUNING A MODEL), EXPLAIN THE PROCESS HERE]\n",
    "\n",
    "[ADD MORE MARKDOWN OR CODE CELLS IF NEEDED]"
   ]
  },
  {
   "cell_type": "code",
   "execution_count": null,
   "metadata": {},
   "outputs": [],
   "source": [
    "# [WRITE HERE THE CODE TO GENERATE THE IMAGES]\n",
    "\n",
    "##### PLACEHOLDER CODE TO GENERATE IMAGES USING COMFYUI - REPLACE IT WITH YOUR CODE #####\n",
    "\n",
    "import uuid\n",
    "import json\n",
    "import urllib\n",
    "import random\n",
    "import io\n",
    "import websocket\n",
    "import os\n",
    "import base64\n",
    "from IPython.display import Image, display\n",
    "\n",
    "comfyui_server_address = \"buas1.edirlei.com\"\n",
    "comfyui_juggernaut_xl_workflow_path = \"./workflow_juggernaut_xl.json\"\n",
    "comfyui_client_id = str(uuid.uuid4())\n",
    "comfyui_username = \"adsai\"\n",
    "comfyui_password = \"uuUP4whjX29cF3cxwrX3SY5Mm9TmtASkdgpaNCTHZ9\"\n",
    "comfyui_credentials = base64.b64encode(f\"{comfyui_username}:{comfyui_password}\".encode('utf-8')).decode('utf-8')\n",
    "comfyui_auth_header = f\"Basic {comfyui_credentials}\"\n",
    "\n",
    "def comfyui_queue_prompt(prompt):\n",
    "    p = {\"prompt\": prompt, \"client_id\": comfyui_client_id}\n",
    "    data = json.dumps(p).encode('utf-8')\n",
    "    req = urllib.request.Request(f\"http://{comfyui_server_address}/prompt\", data=data, headers = {\"Authorization\": comfyui_auth_header})\n",
    "    return json.loads(urllib.request.urlopen(req).read())\n",
    "\n",
    "def comfyui_get_image(filename, subfolder, folder_type):\n",
    "    data = {\"filename\": filename, \"subfolder\": subfolder, \"type\": folder_type}\n",
    "    url_values = urllib.parse.urlencode(data)\n",
    "    req = urllib.request.Request(f\"http://{comfyui_server_address}/view?{url_values}\", headers = {\"Authorization\": comfyui_auth_header})\n",
    "    with urllib.request.urlopen(req) as response:\n",
    "        return response.read()\n",
    "\n",
    "def comfyui_get_history(prompt_id):\n",
    "    req = urllib.request.Request(f\"http://{comfyui_server_address}/history/{prompt_id}\", headers = {\"Authorization\": comfyui_auth_header})\n",
    "    with urllib.request.urlopen(req) as response:\n",
    "        return json.loads(response.read())\n",
    "\n",
    "def comfyui_get_images(ws, prompt):\n",
    "    prompt_id = comfyui_queue_prompt(prompt)['prompt_id']\n",
    "    output_images = {}\n",
    "    while True:\n",
    "        out = ws.recv()\n",
    "        if isinstance(out, str):\n",
    "            message = json.loads(out)\n",
    "            if message['type'] == 'executing':\n",
    "                data = message['data']\n",
    "                if data['node'] is None and data['prompt_id'] == prompt_id:\n",
    "                    break \n",
    "        else:\n",
    "            continue\n",
    "\n",
    "    history = comfyui_get_history(prompt_id)[prompt_id]\n",
    "    for o in history['outputs']:\n",
    "        for node_id in history['outputs']:\n",
    "            node_output = history['outputs'][node_id]\n",
    "            if 'images' in node_output:\n",
    "                images_output = []\n",
    "                for image in node_output['images']:\n",
    "                    image_data = comfyui_get_image(image['filename'], image['subfolder'], image['type'])\n",
    "                    images_output.append(image_data)\n",
    "            output_images[node_id] = images_output\n",
    "    return output_images\n",
    "\n",
    "def comfyui_generate_image_juggernaut_xl(prompt, negative_prompt, seed, output_filename):\n",
    "    with open(comfyui_juggernaut_xl_workflow_path, \"r\") as file:\n",
    "        workflowdata = json.load(file)\n",
    "    if seed == -1:\n",
    "        seed = random.randint(0, 2**32 - 1)\n",
    "    workflowdata[\"6\"][\"inputs\"][\"text\"] = prompt\n",
    "    workflowdata[\"7\"][\"inputs\"][\"text\"] = negative_prompt    \n",
    "    workflowdata[\"3\"][\"inputs\"][\"seed\"] = seed\n",
    "    ws = websocket.WebSocket()\n",
    "    ws.connect(\"ws://{}/ws?clientId={}\".format(comfyui_server_address, comfyui_client_id), header={\"Authorization\": comfyui_auth_header})\n",
    "    images = comfyui_get_images(ws, workflowdata)\n",
    "    if len(images) > 0:\n",
    "        bytestream = io.BytesIO(images[\"9\"][0])\n",
    "        with open(output_filename, \"wb\") as outfile:\n",
    "            outfile.write(bytestream.getbuffer())\n",
    "\n",
    "rnd_story_id = random.randint(1, 9999)\n",
    "os.makedirs(\".//images\", exist_ok=True)\n",
    "for i in range(len(processed_story_scenes)):\n",
    "    comfyui_generate_image_juggernaut_xl(processed_story_scenes[i], \"\", -1, \".//images//story_\" + str(rnd_story_id) + \"_scene_\" + str(i + 1) + \".png\")\n",
    "for i in range(len(processed_story_scenes)):\n",
    "    display(Image(filename=\".//images//story_\" + str(rnd_story_id) + \"_scene_\" + str(i + 1) + \".png\", width=400))\n",
    "    print(processed_story_scenes[i])\n",
    "\n",
    "#########################################################################################"
   ]
  },
  {
   "cell_type": "markdown",
   "metadata": {},
   "source": [
    "## 5. Results and Discussion"
   ]
  },
  {
   "cell_type": "markdown",
   "metadata": {},
   "source": [
    "[EXPLAIN HERE THE RESULTS: WHAT WORKS WELL? WHAT DOES NOT WORK SO WELL?]"
   ]
  },
  {
   "cell_type": "markdown",
   "metadata": {},
   "source": [
    "## 6. Conclusions"
   ]
  },
  {
   "cell_type": "markdown",
   "metadata": {},
   "source": [
    "[WRITE HERE YOUR MAIN CONCLUSIONS ABOUT THE SOLUTION: ARE YOU HAPPY WITH THE RESULTS?]\n",
    "\n",
    "[WHAT WERE THE MAIN CHALLENGES OF DEVELOPING THIS SOLUTION?]\n",
    "\n",
    "[WHAT ARE THE LIMITATIONS OF YOUR SOLUTION?]\n",
    "\n",
    "[WHAT ARE THE FUTURE STEPS THAT YOU THINK COULD BE EXPLORED TO IMPROVE THE RESULTS]"
   ]
  }
 ],
 "metadata": {
  "kernelspec": {
   "display_name": "genai_challenge",
   "language": "python",
   "name": "python3"
  },
  "language_info": {
   "codemirror_mode": {
    "name": "ipython",
    "version": 3
   },
   "file_extension": ".py",
   "mimetype": "text/x-python",
   "name": "python",
   "nbconvert_exporter": "python",
   "pygments_lexer": "ipython3",
   "version": "3.13.0"
  }
 },
 "nbformat": 4,
 "nbformat_minor": 2
}
