{
 "cells": [
  {
   "cell_type": "markdown",
   "metadata": {},
   "source": [
    "# Generative AI Challenge: Improving Scene Descriptions\n",
    "\n",
    "In this notebook, you will learn how to use the Llama model through the Ollama API to enhance scene descriptions by adding more details to the descriptions of the characters in a story. This is useful when working with generative AI models, where enriching the descriptions can help improve the generated images or story contexts."
   ]
  },
  {
   "cell_type": "markdown",
   "metadata": {},
   "source": [
    "### 1. Setting Up the Environment\n",
    "\n",
    "To start, you need to install the necessary package to interact with the Ollama server. This package cannot be installed via Conda, so you'll need to use pip:\n",
    "\n",
    "`pip install ollama`\n",
    "\n",
    "Once installed, you can proceed to interact with the Llama model via the Ollama API."
   ]
  },
  {
   "cell_type": "markdown",
   "metadata": {},
   "source": [
    "### 2. Basic Text Generation Using the  Ollama API\n",
    "\n",
    "We begin by importing the necessary library for this task:"
   ]
  },
  {
   "cell_type": "code",
   "execution_count": 1,
   "metadata": {},
   "outputs": [],
   "source": [
    "import base64\n",
    "from ollama import Client"
   ]
  },
  {
   "cell_type": "markdown",
   "metadata": {},
   "source": [
    "Next, we define the server address, authentication details, and the Llama model we will use for the task:\n",
    "- `ollama_server_address`: This is the address of the Ollama server where the Llama model is running.\n",
    "- `ollama_llm_model`: This specifies which model to use. In this example, we are using the Llama 3.1 8B model."
   ]
  },
  {
   "cell_type": "code",
   "execution_count": 2,
   "metadata": {},
   "outputs": [],
   "source": [
    "ollama_server_address = \"buas9.edirlei.com\"\n",
    "ollama_username = \"adsai\"\n",
    "ollama_password = \"uuUP4whjX29cF3cxwrX3SY5Mm9TmtASkdgpaNCTHZ9\"\n",
    "ollama_credentials = base64.b64encode(f\"{ollama_username}:{ollama_password}\".encode('utf-8')).decode('utf-8')\n",
    "ollama_auth_header = f\"Basic {ollama_credentials}\"\n",
    "\n",
    "ollama_llm_model = \"llama3.1:8b\""
   ]
  },
  {
   "cell_type": "markdown",
   "metadata": {},
   "source": [
    "Now we cab initialize the Ollama client with the server address:"
   ]
  },
  {
   "cell_type": "code",
   "execution_count": 3,
   "metadata": {},
   "outputs": [],
   "source": [
    "ollama_client = Client(host=f\"http://{ollama_server_address}\", headers = {\"Authorization\": ollama_auth_header})"
   ]
  },
  {
   "cell_type": "markdown",
   "metadata": {},
   "source": [
    "To see how the Ollama API works, we'll start with a simple example by asking the model a common question: Why is the sky blue?. The following code sends a request to the model, and then prints the response:"
   ]
  },
  {
   "cell_type": "code",
   "execution_count": 4,
   "metadata": {},
   "outputs": [
    {
     "name": "stdout",
     "output_type": "stream",
     "text": [
      "The sky appears blue to us during the daytime due to a phenomenon called scattering, which is the interaction between light and the tiny molecules of gases in the atmosphere. This is known as Rayleigh scattering.\n",
      "\n",
      "Here's what happens:\n",
      "\n",
      "1.  **Sunlight**: The sun emits all colors of the visible spectrum (red, orange, yellow, green, blue, indigo, violet) as white light.\n",
      "2.  **Entry into Earth's Atmosphere**: When sunlight enters Earth's atmosphere, it encounters various particles and gases like nitrogen and oxygen molecules.\n",
      "3.  **Scattering**: These tiny gas molecules scatter the light in all directions. However, shorter wavelengths (like blue light) are scattered more than longer wavelengths (like red light). This is because the smaller molecules interact more strongly with the shorter wavelengths of light.\n",
      "4.  **Our View**: When we look up at the sky, we see the scattered blue light from all directions. Our atmosphere acts as a filter, allowing mainly the blue part of the spectrum to reach our eyes.\n",
      "\n",
      "In essence, the scattering effect is responsible for the blue color of the sky during the day, making it appear blue to us.\n",
      "\n",
      "Here are some additional factors that contribute to the apparent blue color:\n",
      "\n",
      "*   **Dust and Water Vapor**: Tiny particles in the air (dust, water vapor, pollutants) scatter light too. This contributes to a more muted or hazy appearance.\n",
      "*   **Time of Day**: As the sun moves across the sky, the amount of scattered light changes. The sky appears most blue when sunlight passes through the atmosphere at an angle of about 40-50 degrees.\n",
      "*   **Atmospheric Conditions**: Weather conditions like cloud cover, pollution, and dust can alter the apparent color of the sky.\n",
      "\n",
      "Now, you know why the sky is blue!\n"
     ]
    }
   ],
   "source": [
    "response = ollama_client.chat(model=ollama_llm_model, messages=[\n",
    "  {\n",
    "    \"role\": \"user\",\n",
    "    \"content\": \"Why is the sky blue?\",\n",
    "  },\n",
    "])\n",
    "print(response[\"message\"][\"content\"])"
   ]
  },
  {
   "cell_type": "markdown",
   "metadata": {},
   "source": [
    "### 3. Improving Scene Descriptions Using the Ollama API\n",
    "\n",
    "Now, let's use the Llama model to enhance scene descriptions by describing the physical characteristics of the characters in the scenes. Let's first define a sequence of story events:"
   ]
  },
  {
   "cell_type": "code",
   "execution_count": 5,
   "metadata": {},
   "outputs": [],
   "source": [
    "story_1 = [\"Elara stares at an old map spread out on a wooden table, her hand resting on a lantern. She wears a worn leather jacket, and a satchel hangs at her side. The dim light flickers as she studies the map, deep in thought.\", \n",
    "           \"Elara hikes through a dense jungle, using a machete to clear her path. Sweat drips down her forehead, and her satchel bounces with each step. The sun filters through the thick canopy above her.\",\n",
    "           \"Elara stands at the entrance of an ancient stone temple, the wind whipping her hair. She adjusts her satchel and steps forward, determination in her eyes.\",\n",
    "           \"Inside the temple, Elara examines carvings on the wall, her lantern illuminating the worn stone. Her jacket is now unzipped, revealing a plain shirt underneath, as she runs her fingers over the markings.\",\n",
    "           \"Elara crouches beside a hidden chest, carefully prying it open. Inside, a glowing artifact rests on a bed of cloth. She glances around warily before gently lifting the artifact into her hands.\",\n",
    "           \"Elara races through the temple corridors, the artifact glowing brightly in her satchel. Her jacket flutters behind her as she dodges crumbling debris, her expression a mix of fear and urgency.\",\n",
    "           \"Outside the temple, Elara catches her breath, standing on a cliff with the jungle stretching out below. She looks at the artifact in her hand, a relieved smile spreading across her face as the sun sets behind her.\"]"
   ]
  },
  {
   "cell_type": "markdown",
   "metadata": {},
   "source": [
    "Next, we define the prompt that will instruct the model to rewrite the scene descriptions by adding physical characteristics:"
   ]
  },
  {
   "cell_type": "code",
   "execution_count": 6,
   "metadata": {},
   "outputs": [],
   "source": [
    "prompt_1 = \"Rewrite the provided scene description by adding the physical characteristics of characters mentioned in the scene. Write only the final scene description in a concise way without adding any commentary or header. Here is the scene: \""
   ]
  },
  {
   "cell_type": "markdown",
   "metadata": {},
   "source": [
    "We then loop through the story scenes and send each one to the Llama model, storing the improved versions in a new list:"
   ]
  },
  {
   "cell_type": "code",
   "execution_count": 7,
   "metadata": {},
   "outputs": [],
   "source": [
    "story_1_improved = []\n",
    "\n",
    "for i in range(len(story_1)):\n",
    "    response = ollama_client.chat(model=ollama_llm_model, messages=[\n",
    "        {\n",
    "            \"role\": \"user\",\n",
    "            \"content\": prompt_1 + story_1[i],\n",
    "        },\n",
    "    ])\n",
    "    story_1_improved.append(response[\"message\"][\"content\"])"
   ]
  },
  {
   "cell_type": "markdown",
   "metadata": {},
   "source": [
    "Finally, we print the improved scene descriptions:"
   ]
  },
  {
   "cell_type": "code",
   "execution_count": 8,
   "metadata": {},
   "outputs": [
    {
     "name": "stdout",
     "output_type": "stream",
     "text": [
      "IMPROVED SCENE 1: Elara, a petite woman with short, dark hair and piercing green eyes, stares at an old map spread out on a wooden table, her hand resting on a lantern. She wears a worn leather jacket that fits snugly over her slender frame, and a battered satchel hangs at her side, revealing the curves of her hips beneath the faded fabric of her jeans. The dim light flickers as she studies the map, deep in thought, her brow furrowed in concentration.\n",
      "IMPROVED SCENE 2: Elara, a tall and athletic woman in her mid-twenties with long, curly brown hair tied back in a ponytail, hikes through a dense jungle, using a machete to clear her path. Her tanned skin glistens with sweat as it drips down her forehead and onto her nose ring. A worn satchel bounces against her lean legs as she takes each step, the straps digging slightly into her shoulders. The sun filters through the thick canopy above, casting dappled shadows on the forest floor.\n",
      "IMPROVED SCENE 3: A petite, raven-haired woman with piercing emerald eyes stands tall before the worn entrance of a centuries-old stone temple, the fierce gusts of wind tangling her dark locks as she adjusts the well-worn leather satchel slung over her shoulder and takes a resolute step forward.\n",
      "IMPROVED SCENE 4: Inside the dimly lit temple, Elara, a tall and athletic woman with long, curly brown hair and piercing green eyes, examines intricately carved symbols on the wall, her lantern casting flickering shadows on the worn stone floor beneath her. Her fitted jacket is now unzipped, revealing a plain white shirt underneath, as she runs her fingers over the ancient markings, her slender fingers tracing the patterns with an air of quiet reverence.\n",
      "IMPROVED SCENE 5: Elara, with her long silver hair tied back in a ponytail and her piercing emerald eyes scanning the surroundings, crouches beside a hidden chest, carefully prying it open. Her slender fingers work deftly to loosen the ancient lock. Inside, the glowing artifact rests on a bed of soft, crimson cloth. She glances around warily before gently lifting the artifact into her hands.\n",
      "IMPROVED SCENE 6: Elara, with her short, spiky black hair and piercing emerald eyes, dashes through the temple corridors, her worn leather jacket flying behind her like a dark cloak. The artifact's warm glow emanates from the depths of her satchel, illuminating her determined expression - a blend of fear and urgency etched across her heart-shaped face as she dodges crumbling debris with swift agility.\n",
      "IMPROVED SCENE 7: Outside the temple, Elara, a petite woman with shoulder-length dark hair and piercing emerald eyes, catches her breath, standing on a cliff with the dense jungle stretching out below. She looks at the artifact in her hand, a relieved smile spreading across her face as the sun sets behind her.\n"
     ]
    }
   ],
   "source": [
    "for i in range(len(story_1_improved)):\n",
    "    print(\"IMPROVED SCENE \" + str(i + 1) + \": \" + story_1_improved[i])"
   ]
  },
  {
   "cell_type": "markdown",
   "metadata": {},
   "source": [
    "Although the enhanced scene descriptions produced by the Llama model add useful character details, there are still noticeable inconsistencies across the scenes. For instance, the descriptions may introduce conflicting or overly vague physical characteristics for the same character in different scenes, which can disrupt continuity.\n",
    "\n",
    "If you choose to continue with a prompt-based approach, consider the following improvements:\n",
    "- Investigate ways to standardize prompts to ensure that character attributes, such as physical features and clothing, remain consistent across all scenes.\n",
    "- Explore how to provide more specific instructions in the prompt to maintain continuity, particularly in terms of character appearance and behavior.\n",
    "- Test different variations of prompts to see how minor adjustments affect the model's ability to generate coherent and consistent outputs.\n",
    "- Find ways to connect the improved scene descriptions with the way text-to-image models generate characters to ensure consistent images."
   ]
  }
 ],
 "metadata": {
  "kernelspec": {
   "display_name": "genai_challenge",
   "language": "python",
   "name": "python3"
  },
  "language_info": {
   "codemirror_mode": {
    "name": "ipython",
    "version": 3
   },
   "file_extension": ".py",
   "mimetype": "text/x-python",
   "name": "python",
   "nbconvert_exporter": "python",
   "pygments_lexer": "ipython3",
   "version": "3.13.0"
  }
 },
 "nbformat": 4,
 "nbformat_minor": 2
}
